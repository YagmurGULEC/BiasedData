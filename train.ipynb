{
 "cells": [
  {
   "cell_type": "code",
   "execution_count": 6,
   "metadata": {},
   "outputs": [],
   "source": [
    "from sklearn.compose import ColumnTransformer\n",
    "from sklearn.preprocessing import OneHotEncoder\n",
    "import create_data as cd\n",
    "from sklearn.model_selection import train_test_split\n",
    "from sklearn.linear_model import LinearRegression\n",
    "from matplotlib import pyplot as plt\n",
    "import pandas as pd"
   ]
  },
  {
   "cell_type": "code",
   "execution_count": 2,
   "metadata": {},
   "outputs": [
    {
     "name": "stdout",
     "output_type": "stream",
     "text": [
      "   Applicant ID Education Level  Years of Experience  \\\n",
      "0             1      Bachelor's                   15   \n",
      "1             2             PhD                   12   \n",
      "2             3        Master's                   16   \n",
      "3             4      Bachelor's                   19   \n",
      "4             5       Associate                    8   \n",
      "\n",
      "                       Skills  Gender Hired  \n",
      "0          SQL, Data Analysis    Male   Yes  \n",
      "1                      Python  Female    No  \n",
      "2  SQL, Python, Data Analysis    Male   Yes  \n",
      "3                 SQL, Python    Male   Yes  \n",
      "4                 SQL, Python  Female    No  \n"
     ]
    }
   ],
   "source": [
    "df=cd.generate_imbalanced_data()\n",
    "print(df.head())"
   ]
  },
  {
   "cell_type": "code",
   "execution_count": 7,
   "metadata": {},
   "outputs": [
    {
     "data": {
      "text/plain": [
       "(array([0, 1]), [Text(0, 0, 'Male'), Text(1, 0, 'Female')])"
      ]
     },
     "execution_count": 7,
     "metadata": {},
     "output_type": "execute_result"
    },
    {
     "data": {
      "image/png": "[encoded data removed]",
      "text/plain": [
       "<Figure size 640x480 with 1 Axes>"
      ]
     },
     "metadata": {},
     "output_type": "display_data"
    }
   ],
   "source": [
    "\n",
    "df_hired = df[df['Hired'] == 'Yes']\n",
    "df_hired['Gender'].value_counts().plot(kind='bar', color=['blue', 'pink'])\n",
    "plt.title('Number of Hires by Gender')\n",
    "plt.xlabel('Gender')\n",
    "plt.ylabel('Number of Hires')\n",
    "plt.xticks(rotation=0)"
   ]
  },
  {
   "cell_type": "code",
   "execution_count": 8,
   "metadata": {},
   "outputs": [
    {
     "name": "stdout",
     "output_type": "stream",
     "text": [
      "Significantly higher male hiring rate may suggest bias in hiring process\n",
      "Male Hiring Rate: 0.90\n",
      "Female Hiring Rate: 0.22\n"
     ]
    }
   ],
   "source": [
    "female_hiring_rate=df[df['Gender'] == 'Female']['Hired'].value_counts(normalize=True)['Yes']\n",
    "male_hiring_rate=df[df['Gender'] == 'Male']['Hired'].value_counts(normalize=True)['Yes']\n",
    "print ('Significantly higher male hiring rate may suggest bias in hiring process')\n",
    "print(f'Male Hiring Rate: {male_hiring_rate:.2f}')\n",
    "print(f'Female Hiring Rate: {female_hiring_rate:.2f}')\n"
   ]
  },
  {
   "cell_type": "code",
   "execution_count": 10,
   "metadata": {},
   "outputs": [
    {
     "name": "stdout",
     "output_type": "stream",
     "text": [
      "Hired    No  Yes\n",
      "Gender          \n",
      "Female  330   95\n",
      "Male     56  519\n"
     ]
    }
   ],
   "source": [
    "#Contingency Table\n",
    "contingency_table = pd.crosstab(df['Gender'], df['Hired'],normalize='index')  \n",
    "print(contingency_table)"
   ]
  },
  {
   "cell_type": "code",
   "execution_count": 13,
   "metadata": {},
   "outputs": [
    {
     "name": "stdout",
     "output_type": "stream",
     "text": [
      "Chi-Square Statistic: 472.63\n",
      "p-value: 8.580456869897864e-105\n"
     ]
    }
   ],
   "source": [
    "from scipy.stats import chi2_contingency\n",
    "\n",
    "# Create contingency table\n",
    "contingency_table = pd.crosstab(df['Gender'], df['Hired'])\n",
    "\n",
    "# Perform Chi-Square Test\n",
    "chi2, p, dof, expected = chi2_contingency(contingency_table)\n",
    "\n",
    "print(f'Chi-Square Statistic: {chi2:.2f}')\n",
    "print(f'p-value: {p}')\n"
   ]
  },
  {
   "cell_type": "code",
   "execution_count": 15,
   "metadata": {},
   "outputs": [
    {
     "name": "stdout",
     "output_type": "stream",
     "text": [
      "Average Experience for Hired Males: 10.08\n",
      "Average Experience for Hired Females: 9.48\n"
     ]
    }
   ],
   "source": [
    "# Average years of experience for hired males and females\n",
    "avg_experience_male = df[(df['Gender'] == 'Male') & (df['Hired'] == 'Yes')]['Years of Experience'].mean()\n",
    "avg_experience_female = df[(df['Gender'] == 'Female') & (df['Hired'] == 'Yes')]['Years of Experience'].mean()\n",
    "\n",
    "print(f'Average Experience for Hired Males: {avg_experience_male:.2f}')\n",
    "print(f'Average Experience for Hired Females: {avg_experience_female:.2f}')"
   ]
  }
 ],
 "metadata": {
  "kernelspec": {
   "display_name": "venv",
   "language": "python",
   "name": "python3"
  },
  "language_info": {
   "codemirror_mode": {
    "name": "ipython",
    "version": 3
   },
   "file_extension": ".py",
   "mimetype": "text/x-python",
   "name": "python",
   "nbconvert_exporter": "python",
   "pygments_lexer": "ipython3",
   "version": "3.12.1"
  }
 },
 "nbformat": 4,
 "nbformat_minor": 2
}
